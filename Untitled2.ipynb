{
  "nbformat": 4,
  "nbformat_minor": 0,
  "metadata": {
    "colab": {
      "provenance": [],
      "toc_visible": true,
      "authorship_tag": "ABX9TyOChakvG4Yer5h8P28WGhYt",
      "include_colab_link": true
    },
    "kernelspec": {
      "name": "python3",
      "display_name": "Python 3"
    },
    "language_info": {
      "name": "python"
    }
  },
  "cells": [
    {
      "cell_type": "markdown",
      "metadata": {
        "id": "view-in-github",
        "colab_type": "text"
      },
      "source": [
        "<a href=\"https://colab.research.google.com/github/HENRIQUEDEV04/EXEMPLO-ETL/blob/main/Untitled2.ipynb\" target=\"_parent\"><img src=\"https://colab.research.google.com/assets/colab-badge.svg\" alt=\"Open In Colab\"/></a>"
      ]
    },
    {
      "cell_type": "code",
      "execution_count": null,
      "metadata": {
        "colab": {
          "base_uri": "https://localhost:8080/"
        },
        "id": "4HVZLnNJ_lKx",
        "outputId": "0561d028-1d0f-4383-decc-4d2427877cac"
      },
      "outputs": [
        {
          "output_type": "stream",
          "name": "stdout",
          "text": [
            "Dados da filial 1:\n",
            "   ID do Produto                   Nome do Produto  Quantidade Vendida  \\\n",
            "0            101                Laptop Dell XPS 13                  20   \n",
            "1            102     Smartphone Samsung Galaxy S20                  30   \n",
            "2            103          Monitor LG UltraWide 34\"                  15   \n",
            "3            104  Teclado Mecânico Corsair K95 RGB                  25   \n",
            "4            105        Mouse Logitech MX Master 3                  10   \n",
            "\n",
            "   Preço Unitário  \n",
            "0          1500.0  \n",
            "1          1000.0  \n",
            "2           600.0  \n",
            "3           200.0  \n",
            "4            80.0  \n",
            "\n",
            "Dados da filial 2:\n",
            "   ID do Produto                    Nome do Produto  Quantidade Vendida  \\\n",
            "0            201         Impressora HP LaserJet Pro                  12   \n",
            "1            202                    SSD Samsung 1TB                  18   \n",
            "2            203              Tablet Apple iPad Pro                   8   \n",
            "3            204  Smartwatch Samsung Galaxy Watch 4                  14   \n",
            "4            205            Headset HyperX Cloud II                  20   \n",
            "\n",
            "   Preço Unitário  \n",
            "0           250.0  \n",
            "1           180.0  \n",
            "2           900.0  \n",
            "3           300.0  \n",
            "4           120.0  \n"
          ]
        }
      ],
      "source": [
        "# Importando a biblioteca pandas\n",
        "import pandas as pd\n",
        "\n",
        "# Extração dos dados da filial 1 (CSV)\n",
        "vendas_filial1 = pd.read_csv('vendas_filial1.csv')\n",
        "\n",
        "# Extração dos dados da filial 2 (Excel)\n",
        "vendas_filial2 = pd.read_excel('vendas_filial2.xlsx')\n",
        "\n",
        "# Transformações\n",
        "# Podemos fazer transformações adicionais aqui, se necessário\n",
        "\n",
        "# Visualização dos dados\n",
        "print(\"Dados da filial 1:\")\n",
        "print(vendas_filial1.head())\n",
        "print(\"\\nDados da filial 2:\")\n",
        "print(vendas_filial2.head())\n"
      ]
    },
    {
      "cell_type": "code",
      "source": [
        "#Transformação dos dados: Calcular o valor total de vendas para cada filial\n",
        "vendas_filial1['Valor Total']= vendas_filial1['Quantidade Vendida'] * vendas_filial1['Preço Unitário']\n",
        "vendas_filial2['Valor Total']= vendas_filial2['Quantidade Vendida'] * vendas_filial2['Preço Unitário']\n",
        "\n",
        "#Visualizar os dados transformados\n",
        "print(\"Dados Transformados da Filial 1:\")\n",
        "print(vendas_filial1.head())\n",
        "print(\"\\nDados Transformados da Filial 2:\")\n",
        "print(vendas_filial2.head())"
      ],
      "metadata": {
        "colab": {
          "base_uri": "https://localhost:8080/"
        },
        "id": "sQuxI90LSPGb",
        "outputId": "73903063-7f03-4c2b-aac7-658c163ccb77"
      },
      "execution_count": null,
      "outputs": [
        {
          "output_type": "stream",
          "name": "stdout",
          "text": [
            "Dados Transformados da Filial 1:\n",
            "   ID do Produto                   Nome do Produto  Quantidade Vendida  \\\n",
            "0            101                Laptop Dell XPS 13                  20   \n",
            "1            102     Smartphone Samsung Galaxy S20                  30   \n",
            "2            103          Monitor LG UltraWide 34\"                  15   \n",
            "3            104  Teclado Mecânico Corsair K95 RGB                  25   \n",
            "4            105        Mouse Logitech MX Master 3                  10   \n",
            "\n",
            "   Preço Unitário  Valor Total  \n",
            "0          1500.0      30000.0  \n",
            "1          1000.0      30000.0  \n",
            "2           600.0       9000.0  \n",
            "3           200.0       5000.0  \n",
            "4            80.0        800.0  \n",
            "\n",
            "Dados Transformados da Filial 2:\n",
            "   ID do Produto                    Nome do Produto  Quantidade Vendida  \\\n",
            "0            201         Impressora HP LaserJet Pro                  12   \n",
            "1            202                    SSD Samsung 1TB                  18   \n",
            "2            203              Tablet Apple iPad Pro                   8   \n",
            "3            204  Smartwatch Samsung Galaxy Watch 4                  14   \n",
            "4            205            Headset HyperX Cloud II                  20   \n",
            "\n",
            "   Preço Unitário  Valor Total  \n",
            "0           250.0       3000.0  \n",
            "1           180.0       3240.0  \n",
            "2           900.0       7200.0  \n",
            "3           300.0       4200.0  \n",
            "4           120.0       2400.0  \n"
          ]
        }
      ]
    },
    {
      "cell_type": "code",
      "source": [
        "#Carregamento dos dados transformados para um arquivo CSV\n",
        "vendas_filial1.to_csv('vendas_filial1_transformadas.csv', index=False)\n",
        "vendas_filial2.to_csv('vendas_filial2_transformadas.csv', index=False)\n",
        "\n",
        "#Apresentar os dados carregados dos arquivos CSV\n",
        "dados_filial1 = pd.read_csv('vendas_filial1_transformadas.csv')\n",
        "dados_filial2 = pd.read_csv('vendas_filial2_transformadas.csv')\n",
        "\n",
        "print(\"Dados Transformados da Filial 1 (do arquivo CSV):\")\n",
        "print(dados_filial1.head())\n",
        "print(\"\\nDados Transformados da Filial 2 (do arquivo CSV):\")\n",
        "print(dados_filial2.head())"
      ],
      "metadata": {
        "colab": {
          "base_uri": "https://localhost:8080/"
        },
        "id": "IvuqC0f2UE4J",
        "outputId": "36e0aced-ec02-48ed-b798-5dd23341f45c"
      },
      "execution_count": null,
      "outputs": [
        {
          "output_type": "stream",
          "name": "stdout",
          "text": [
            "Dados Transformados da Filial 1 (do arquivo CSV):\n",
            "   ID do Produto                   Nome do Produto  Quantidade Vendida  \\\n",
            "0            101                Laptop Dell XPS 13                  20   \n",
            "1            102     Smartphone Samsung Galaxy S20                  30   \n",
            "2            103          Monitor LG UltraWide 34\"                  15   \n",
            "3            104  Teclado Mecânico Corsair K95 RGB                  25   \n",
            "4            105        Mouse Logitech MX Master 3                  10   \n",
            "\n",
            "   Preço Unitário  Valor Total  \n",
            "0          1500.0      30000.0  \n",
            "1          1000.0      30000.0  \n",
            "2           600.0       9000.0  \n",
            "3           200.0       5000.0  \n",
            "4            80.0        800.0  \n",
            "\n",
            "Dados Transformados da Filial 2 (do arquivo CSV):\n",
            "   ID do Produto                    Nome do Produto  Quantidade Vendida  \\\n",
            "0            201         Impressora HP LaserJet Pro                  12   \n",
            "1            202                    SSD Samsung 1TB                  18   \n",
            "2            203              Tablet Apple iPad Pro                   8   \n",
            "3            204  Smartwatch Samsung Galaxy Watch 4                  14   \n",
            "4            205            Headset HyperX Cloud II                  20   \n",
            "\n",
            "   Preço Unitário  Valor Total  \n",
            "0           250.0       3000.0  \n",
            "1           180.0       3240.0  \n",
            "2           900.0       7200.0  \n",
            "3           300.0       4200.0  \n",
            "4           120.0       2400.0  \n"
          ]
        }
      ]
    },
    {
      "cell_type": "code",
      "source": [
        "from google.colab import drive\n",
        "drive.mount('/content/drive')"
      ],
      "metadata": {
        "id": "L3xHtk5zbRoL"
      },
      "execution_count": null,
      "outputs": []
    }
  ]
}